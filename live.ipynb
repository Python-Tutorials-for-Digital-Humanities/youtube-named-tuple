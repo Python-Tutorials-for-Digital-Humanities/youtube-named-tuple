{
 "cells": [
  {
   "cell_type": "markdown",
   "id": "0a5a1157-3c9e-4258-aa3a-f2cf8769b303",
   "metadata": {},
   "source": [
    "# Working with NamedTuples"
   ]
  },
  {
   "cell_type": "markdown",
   "id": "96bede7c-ba4a-4ce8-95c2-d6b81cbf7cf5",
   "metadata": {},
   "source": [
    "Problem:\n",
    "\n",
    "- We have a list of kings\n",
    "- We want to store their names and ages of death as Python data\n",
    "- We want that data to be easy to read and easy to write"
   ]
  },
  {
   "cell_type": "markdown",
   "id": "0ceb67fe-3b1c-4967-82c1-e21276057622",
   "metadata": {},
   "source": [
    "## Basic Approach: Tuple"
   ]
  },
  {
   "cell_type": "code",
   "execution_count": 2,
   "id": "5ff48607-9c46-4e6e-80e5-c41db49ab922",
   "metadata": {},
   "outputs": [
    {
     "name": "stdout",
     "output_type": "stream",
     "text": [
      "['Charles', 72]\n"
     ]
    }
   ],
   "source": [
    "#index 0 => Name\n",
    "#index 1 =>Age at Death\n",
    "charles = [\"Charles\", 72]\n",
    "print(charles)"
   ]
  },
  {
   "cell_type": "code",
   "execution_count": null,
   "id": "171b0a68-8a48-4a00-8040-4b9bcd4e52a4",
   "metadata": {},
   "outputs": [],
   "source": []
  },
  {
   "cell_type": "markdown",
   "id": "52e75170-e9d1-429b-a724-acf73c5369f8",
   "metadata": {},
   "source": [
    "## Basic Approach: Dictionary"
   ]
  },
  {
   "cell_type": "code",
   "execution_count": 3,
   "id": "8969ef92-5d8c-4f9b-a07a-4297a80d77e5",
   "metadata": {},
   "outputs": [
    {
     "data": {
      "text/plain": [
       "{'name': 'Charles', 'age': 72}"
      ]
     },
     "execution_count": 3,
     "metadata": {},
     "output_type": "execute_result"
    }
   ],
   "source": [
    "charles = {\"name\": \"Charles\", \"age\": 72}\n",
    "charles"
   ]
  },
  {
   "cell_type": "code",
   "execution_count": null,
   "id": "0485044e-fe4a-4935-9852-67b5069aa600",
   "metadata": {},
   "outputs": [],
   "source": []
  },
  {
   "cell_type": "markdown",
   "id": "3ed00cb9-433c-4f96-9523-820f46855e00",
   "metadata": {},
   "source": [
    "## Method 1: Collections"
   ]
  },
  {
   "cell_type": "code",
   "execution_count": 4,
   "id": "523ccdce-ce14-42b5-97aa-e05e1a6ed986",
   "metadata": {},
   "outputs": [],
   "source": [
    "from collections import namedtuple"
   ]
  },
  {
   "cell_type": "code",
   "execution_count": 5,
   "id": "98207fee-7ec5-4278-ac1c-d23f0a69f9ed",
   "metadata": {},
   "outputs": [],
   "source": [
    "person = namedtuple(\"person\", [\"name\", \"age\"])"
   ]
  },
  {
   "cell_type": "code",
   "execution_count": 9,
   "id": "f23f3df8-9f68-4263-be5c-bc2cda18935d",
   "metadata": {},
   "outputs": [
    {
     "data": {
      "text/plain": [
       "person(name='Charles', age=72)"
      ]
     },
     "execution_count": 9,
     "metadata": {},
     "output_type": "execute_result"
    }
   ],
   "source": [
    "charles1 = person(\"Charles\", 72)\n",
    "charles1"
   ]
  },
  {
   "cell_type": "code",
   "execution_count": 10,
   "id": "a0578aad-7798-4234-8863-672553c32322",
   "metadata": {},
   "outputs": [
    {
     "data": {
      "text/plain": [
       "person(name='Henry', age=56)"
      ]
     },
     "execution_count": 10,
     "metadata": {},
     "output_type": "execute_result"
    }
   ],
   "source": [
    "henry = person(\"Henry\", 56)\n",
    "henry"
   ]
  },
  {
   "cell_type": "markdown",
   "id": "65ab15ad-f508-4e5d-b500-a9a8e90693ce",
   "metadata": {},
   "source": [
    "## Method 2: NamedTuple"
   ]
  },
  {
   "cell_type": "code",
   "execution_count": 11,
   "id": "1db0c75f-277d-40d4-ac91-7d0408d3d6f3",
   "metadata": {},
   "outputs": [],
   "source": [
    "from typing import NamedTuple"
   ]
  },
  {
   "cell_type": "code",
   "execution_count": 12,
   "id": "9302a03d-ff8c-4e45-9212-8a1bff6840df",
   "metadata": {},
   "outputs": [],
   "source": [
    "person2 = NamedTuple(\n",
    "    \"person\",\n",
    "    [\n",
    "        [\"name\", str],\n",
    "        [\"age\", int]\n",
    "    ]\n",
    "\n",
    ")"
   ]
  },
  {
   "cell_type": "code",
   "execution_count": 16,
   "id": "d7b5e1a1-f07a-47fb-bc97-5790c8d0a4c2",
   "metadata": {},
   "outputs": [],
   "source": [
    "charles2 = person(\"Charles\", 72)"
   ]
  },
  {
   "cell_type": "code",
   "execution_count": 19,
   "id": "4b4f5b53-7582-4235-ad9d-1c16e04d64c5",
   "metadata": {},
   "outputs": [
    {
     "data": {
      "text/plain": [
       "72"
      ]
     },
     "execution_count": 19,
     "metadata": {},
     "output_type": "execute_result"
    }
   ],
   "source": [
    "charles2.age"
   ]
  },
  {
   "cell_type": "markdown",
   "id": "aeecba71-2a46-4d6d-b8f7-7e6b3d355a5d",
   "metadata": {},
   "source": [
    "## Method 3: NamedTuple as a Class"
   ]
  },
  {
   "cell_type": "code",
   "execution_count": 20,
   "id": "b896b734-479e-4b79-815d-c846b08c9777",
   "metadata": {},
   "outputs": [],
   "source": [
    "class person3(NamedTuple):\n",
    "    name: str\n",
    "    age: int"
   ]
  },
  {
   "cell_type": "code",
   "execution_count": 21,
   "id": "d8182c0a-86e7-451b-a6c7-eb4f13355ffa",
   "metadata": {},
   "outputs": [],
   "source": [
    "charles3 = person3(\"Charles\", 72)"
   ]
  },
  {
   "cell_type": "code",
   "execution_count": 22,
   "id": "b5c37a3a-5e1e-4f78-9dd2-c0c73eb4a72c",
   "metadata": {},
   "outputs": [
    {
     "data": {
      "text/plain": [
       "person3(name='Charles', age=72)"
      ]
     },
     "execution_count": 22,
     "metadata": {},
     "output_type": "execute_result"
    }
   ],
   "source": [
    "charles3"
   ]
  },
  {
   "cell_type": "code",
   "execution_count": 23,
   "id": "155e9bb8-9a16-4169-961f-23fd2026e5ad",
   "metadata": {},
   "outputs": [
    {
     "data": {
      "text/plain": [
       "'Charles'"
      ]
     },
     "execution_count": 23,
     "metadata": {},
     "output_type": "execute_result"
    }
   ],
   "source": [
    "charles.name"
   ]
  },
  {
   "cell_type": "markdown",
   "id": "c7897922-fbda-4305-8bcb-89431b536e7b",
   "metadata": {},
   "source": [
    "## Method 4"
   ]
  },
  {
   "cell_type": "code",
   "execution_count": 24,
   "id": "05b31062-4d60-4d1c-8a51-b5679cb8b103",
   "metadata": {},
   "outputs": [],
   "source": [
    "from dataclasses import dataclass"
   ]
  },
  {
   "cell_type": "code",
   "execution_count": 25,
   "id": "ba0951e5-8578-4a68-b9cf-5fae4756f788",
   "metadata": {},
   "outputs": [],
   "source": [
    "@dataclass\n",
    "class Person4:\n",
    "    name: str\n",
    "    age: int"
   ]
  },
  {
   "cell_type": "code",
   "execution_count": 26,
   "id": "11c334a0-bf15-4e5e-b59e-3856ca16bf9b",
   "metadata": {},
   "outputs": [],
   "source": [
    "charles4 = Person4(\"Charles\", 72)"
   ]
  },
  {
   "cell_type": "code",
   "execution_count": 28,
   "id": "5254c8cc-4f08-4286-b562-b0d4c81db7bb",
   "metadata": {},
   "outputs": [
    {
     "data": {
      "text/plain": [
       "'Charles'"
      ]
     },
     "execution_count": 28,
     "metadata": {},
     "output_type": "execute_result"
    }
   ],
   "source": [
    "charles4.name"
   ]
  },
  {
   "cell_type": "code",
   "execution_count": null,
   "id": "f5a3f5b0-6151-4b73-89cb-bb68aab5cb43",
   "metadata": {},
   "outputs": [],
   "source": []
  }
 ],
 "metadata": {
  "kernelspec": {
   "display_name": "Python 3 (ipykernel)",
   "language": "python",
   "name": "python3"
  },
  "language_info": {
   "codemirror_mode": {
    "name": "ipython",
    "version": 3
   },
   "file_extension": ".py",
   "mimetype": "text/x-python",
   "name": "python",
   "nbconvert_exporter": "python",
   "pygments_lexer": "ipython3",
   "version": "3.9.16"
  }
 },
 "nbformat": 4,
 "nbformat_minor": 5
}
