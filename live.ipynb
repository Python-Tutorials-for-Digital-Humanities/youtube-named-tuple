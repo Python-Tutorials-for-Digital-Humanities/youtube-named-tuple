{
 "cells": [
  {
   "cell_type": "markdown",
   "id": "0a5a1157-3c9e-4258-aa3a-f2cf8769b303",
   "metadata": {},
   "source": [
    "# Working with NamedTuples"
   ]
  },
  {
   "cell_type": "markdown",
   "id": "96bede7c-ba4a-4ce8-95c2-d6b81cbf7cf5",
   "metadata": {},
   "source": [
    "Problem:\n",
    "\n",
    "- We have a list of kings\n",
    "- We want to store their names and ages of death as Python data\n",
    "- We want that data to be easy to read and easy to write"
   ]
  },
  {
   "cell_type": "markdown",
   "id": "0ceb67fe-3b1c-4967-82c1-e21276057622",
   "metadata": {},
   "source": [
    "## Basic Approach: Tuple"
   ]
  },
  {
   "cell_type": "code",
   "execution_count": null,
   "id": "5ff48607-9c46-4e6e-80e5-c41db49ab922",
   "metadata": {},
   "outputs": [],
   "source": []
  },
  {
   "cell_type": "code",
   "execution_count": null,
   "id": "171b0a68-8a48-4a00-8040-4b9bcd4e52a4",
   "metadata": {},
   "outputs": [],
   "source": []
  },
  {
   "cell_type": "markdown",
   "id": "52e75170-e9d1-429b-a724-acf73c5369f8",
   "metadata": {},
   "source": [
    "## Basic Approach: Dictionary"
   ]
  },
  {
   "cell_type": "code",
   "execution_count": null,
   "id": "8969ef92-5d8c-4f9b-a07a-4297a80d77e5",
   "metadata": {},
   "outputs": [],
   "source": []
  },
  {
   "cell_type": "code",
   "execution_count": null,
   "id": "0485044e-fe4a-4935-9852-67b5069aa600",
   "metadata": {},
   "outputs": [],
   "source": []
  },
  {
   "cell_type": "markdown",
   "id": "3ed00cb9-433c-4f96-9523-820f46855e00",
   "metadata": {},
   "source": [
    "## Method 1: Collections"
   ]
  },
  {
   "cell_type": "code",
   "execution_count": null,
   "id": "523ccdce-ce14-42b5-97aa-e05e1a6ed986",
   "metadata": {},
   "outputs": [],
   "source": []
  },
  {
   "cell_type": "code",
   "execution_count": null,
   "id": "98207fee-7ec5-4278-ac1c-d23f0a69f9ed",
   "metadata": {},
   "outputs": [],
   "source": []
  },
  {
   "cell_type": "code",
   "execution_count": null,
   "id": "f23f3df8-9f68-4263-be5c-bc2cda18935d",
   "metadata": {},
   "outputs": [],
   "source": []
  },
  {
   "cell_type": "markdown",
   "id": "65ab15ad-f508-4e5d-b500-a9a8e90693ce",
   "metadata": {},
   "source": [
    "## Method 2: NamedTuple"
   ]
  },
  {
   "cell_type": "code",
   "execution_count": null,
   "id": "1db0c75f-277d-40d4-ac91-7d0408d3d6f3",
   "metadata": {},
   "outputs": [],
   "source": []
  },
  {
   "cell_type": "code",
   "execution_count": null,
   "id": "9302a03d-ff8c-4e45-9212-8a1bff6840df",
   "metadata": {},
   "outputs": [],
   "source": []
  },
  {
   "cell_type": "markdown",
   "id": "aeecba71-2a46-4d6d-b8f7-7e6b3d355a5d",
   "metadata": {},
   "source": [
    "## Method 3: NamedTuple as a Class"
   ]
  },
  {
   "cell_type": "code",
   "execution_count": null,
   "id": "b896b734-479e-4b79-815d-c846b08c9777",
   "metadata": {},
   "outputs": [],
   "source": []
  },
  {
   "cell_type": "code",
   "execution_count": null,
   "id": "d8182c0a-86e7-451b-a6c7-eb4f13355ffa",
   "metadata": {},
   "outputs": [],
   "source": []
  }
 ],
 "metadata": {
  "kernelspec": {
   "display_name": "Python 3 (ipykernel)",
   "language": "python",
   "name": "python3"
  },
  "language_info": {
   "codemirror_mode": {
    "name": "ipython",
    "version": 3
   },
   "file_extension": ".py",
   "mimetype": "text/x-python",
   "name": "python",
   "nbconvert_exporter": "python",
   "pygments_lexer": "ipython3",
   "version": "3.9.16"
  }
 },
 "nbformat": 4,
 "nbformat_minor": 5
}
