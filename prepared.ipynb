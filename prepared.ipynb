{
 "cells": [
  {
   "cell_type": "markdown",
   "id": "2c0714f5-0aba-497f-b48d-4aec354a66f5",
   "metadata": {},
   "source": [
    "# Working with NamedTuples"
   ]
  },
  {
   "cell_type": "markdown",
   "id": "c5f86657-05ad-4533-bd36-f8ea766a1beb",
   "metadata": {},
   "source": [
    "## Method 1: Collections"
   ]
  },
  {
   "cell_type": "code",
   "execution_count": 1,
   "id": "13d7c0ff-4b54-49b0-8d62-fb3a55f4cd46",
   "metadata": {},
   "outputs": [],
   "source": [
    "from collections import namedtuple"
   ]
  },
  {
   "cell_type": "code",
   "execution_count": 6,
   "id": "e7d3bffa-4948-4a5f-979c-0cb1b1fc05d7",
   "metadata": {},
   "outputs": [],
   "source": [
    "person = namedtuple(\"person\", [\"name\", \"age\"])"
   ]
  },
  {
   "cell_type": "code",
   "execution_count": 7,
   "id": "73ec9d55-6ebd-4481-a435-fe33d1e6124a",
   "metadata": {},
   "outputs": [],
   "source": [
    "charles = person(\"Charles\", 72)\n",
    "henry = person(\"Henry\", 60)"
   ]
  },
  {
   "cell_type": "code",
   "execution_count": 12,
   "id": "1faae5ac-1b88-42ac-b6d8-26ba31952635",
   "metadata": {},
   "outputs": [
    {
     "name": "stdout",
     "output_type": "stream",
     "text": [
      "person(name='Charles', age=72)\n"
     ]
    }
   ],
   "source": [
    "print(charles)"
   ]
  },
  {
   "cell_type": "code",
   "execution_count": 13,
   "id": "93f24140-8e48-4ce2-b17c-431442468ddd",
   "metadata": {},
   "outputs": [
    {
     "data": {
      "text/plain": [
       "'Charles'"
      ]
     },
     "execution_count": 13,
     "metadata": {},
     "output_type": "execute_result"
    }
   ],
   "source": [
    "charles.name"
   ]
  },
  {
   "cell_type": "code",
   "execution_count": 14,
   "id": "4156a920-49da-4bcb-866e-3c0e5411130e",
   "metadata": {},
   "outputs": [
    {
     "data": {
      "text/plain": [
       "72"
      ]
     },
     "execution_count": 14,
     "metadata": {},
     "output_type": "execute_result"
    }
   ],
   "source": [
    "charles.age"
   ]
  },
  {
   "cell_type": "code",
   "execution_count": 15,
   "id": "1f91fb61-86b0-493a-aa45-38cb71b7cf61",
   "metadata": {},
   "outputs": [
    {
     "data": {
      "text/plain": [
       "'Henry'"
      ]
     },
     "execution_count": 15,
     "metadata": {},
     "output_type": "execute_result"
    }
   ],
   "source": [
    "henry.name"
   ]
  },
  {
   "cell_type": "code",
   "execution_count": 16,
   "id": "7902b193-6604-48ab-8ba2-48a8e54bff43",
   "metadata": {},
   "outputs": [
    {
     "data": {
      "text/plain": [
       "60"
      ]
     },
     "execution_count": 16,
     "metadata": {},
     "output_type": "execute_result"
    }
   ],
   "source": [
    "henry.age"
   ]
  },
  {
   "cell_type": "markdown",
   "id": "4e269d4b-4d4b-447c-983d-2cea2f13d908",
   "metadata": {},
   "source": [
    "## Method 2: NamedTuple"
   ]
  },
  {
   "cell_type": "code",
   "execution_count": 11,
   "id": "d05388c4-1175-4921-9fb5-1dfa92b14bc9",
   "metadata": {},
   "outputs": [],
   "source": [
    "from typing import NamedTuple"
   ]
  },
  {
   "cell_type": "code",
   "execution_count": 12,
   "id": "bc7e1180-a7a8-43a5-af6d-18ab0c5350bf",
   "metadata": {},
   "outputs": [],
   "source": [
    "person2 = NamedTuple(\"person\", [\n",
    "    [\"name\", str],\n",
    "    [\"age\", int]\n",
    "])"
   ]
  },
  {
   "cell_type": "code",
   "execution_count": 13,
   "id": "4b928a5c-aadb-435f-a44d-a4fa34ec517a",
   "metadata": {},
   "outputs": [],
   "source": [
    "charles2 = person2(\"Charles\", 72)"
   ]
  },
  {
   "cell_type": "code",
   "execution_count": 14,
   "id": "3730fbd6-1abd-4278-be43-49b3cf1f29ee",
   "metadata": {},
   "outputs": [
    {
     "data": {
      "text/plain": [
       "person(name='Charles', age=72)"
      ]
     },
     "execution_count": 14,
     "metadata": {},
     "output_type": "execute_result"
    }
   ],
   "source": [
    "charles2"
   ]
  },
  {
   "cell_type": "code",
   "execution_count": 15,
   "id": "47a3451e-97a4-419a-814a-a70c03b6d9d9",
   "metadata": {},
   "outputs": [
    {
     "data": {
      "text/plain": [
       "'Charles'"
      ]
     },
     "execution_count": 15,
     "metadata": {},
     "output_type": "execute_result"
    }
   ],
   "source": [
    "charles2.name"
   ]
  },
  {
   "cell_type": "code",
   "execution_count": 25,
   "id": "bf1ae621-7d12-495c-b6ae-a93c7c87a45c",
   "metadata": {},
   "outputs": [
    {
     "data": {
      "text/plain": [
       "72"
      ]
     },
     "execution_count": 25,
     "metadata": {},
     "output_type": "execute_result"
    }
   ],
   "source": [
    "charles2.age"
   ]
  },
  {
   "cell_type": "markdown",
   "id": "a000df2e-5464-4690-a158-a084fc2c778f",
   "metadata": {},
   "source": [
    "## Method 3: NamedTuple as a Class"
   ]
  },
  {
   "cell_type": "code",
   "execution_count": 16,
   "id": "999ac921-308a-4b25-b298-361219c8595c",
   "metadata": {},
   "outputs": [],
   "source": [
    "class Person3(NamedTuple):\n",
    "    name: str\n",
    "    age: int"
   ]
  },
  {
   "cell_type": "code",
   "execution_count": 17,
   "id": "344698bc-13ba-43c4-807b-499cb15cfeec",
   "metadata": {},
   "outputs": [],
   "source": [
    "charles3 = Person3(\"Charles\", 72)"
   ]
  },
  {
   "cell_type": "code",
   "execution_count": 18,
   "id": "6b96f4b3-86a3-4162-ac90-a6fe1548ed32",
   "metadata": {},
   "outputs": [
    {
     "data": {
      "text/plain": [
       "Person3(name='Charles', age=72)"
      ]
     },
     "execution_count": 18,
     "metadata": {},
     "output_type": "execute_result"
    }
   ],
   "source": [
    "charles3"
   ]
  },
  {
   "cell_type": "markdown",
   "id": "44be612f-aa47-46c9-a7d8-d0d9194d9b32",
   "metadata": {},
   "source": [
    "## Method 4: Dataclass property"
   ]
  },
  {
   "cell_type": "code",
   "execution_count": 1,
   "id": "5c456b20-0902-4741-8e61-00eb61e57ff7",
   "metadata": {},
   "outputs": [],
   "source": [
    "from dataclasses import dataclass"
   ]
  },
  {
   "cell_type": "code",
   "execution_count": 3,
   "id": "a152120f-9386-4a23-9746-66fdf46ea677",
   "metadata": {},
   "outputs": [],
   "source": [
    "@dataclass\n",
    "class Person4:\n",
    "    name: str\n",
    "    age: int"
   ]
  },
  {
   "cell_type": "code",
   "execution_count": 4,
   "id": "887d4227-dd77-4305-bd33-e06399ac35a9",
   "metadata": {},
   "outputs": [],
   "source": [
    "charles = Person4(\"Charles\", 72)"
   ]
  },
  {
   "cell_type": "code",
   "execution_count": 5,
   "id": "06edb939-a238-49df-a3a8-048cc6fad755",
   "metadata": {},
   "outputs": [
    {
     "data": {
      "text/plain": [
       "Person4(name='Charles', age=72)"
      ]
     },
     "execution_count": 5,
     "metadata": {},
     "output_type": "execute_result"
    }
   ],
   "source": [
    "charles"
   ]
  },
  {
   "cell_type": "code",
   "execution_count": null,
   "id": "fff7ae66-6f81-4ac7-8d08-1e63977f0f4c",
   "metadata": {},
   "outputs": [],
   "source": []
  }
 ],
 "metadata": {
  "kernelspec": {
   "display_name": "Python 3 (ipykernel)",
   "language": "python",
   "name": "python3"
  },
  "language_info": {
   "codemirror_mode": {
    "name": "ipython",
    "version": 3
   },
   "file_extension": ".py",
   "mimetype": "text/x-python",
   "name": "python",
   "nbconvert_exporter": "python",
   "pygments_lexer": "ipython3",
   "version": "3.9.16"
  }
 },
 "nbformat": 4,
 "nbformat_minor": 5
}
